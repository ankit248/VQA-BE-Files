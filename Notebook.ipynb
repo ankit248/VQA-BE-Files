{
  "nbformat": 4,
  "nbformat_minor": 0,
  "metadata": {
    "colab": {
      "name": "Untitled8.ipynb",
      "version": "0.3.2",
      "provenance": []
    },
    "kernelspec": {
      "name": "python3",
      "display_name": "Python 3"
    },
    "accelerator": "GPU"
  },
  "cells": [
    {
      "metadata": {
        "id": "xyPnWjSmjkK7",
        "colab_type": "code",
        "colab": {}
      },
      "cell_type": "code",
      "source": [
        "import os\n",
        "os.chdir('/usr')"
      ],
      "execution_count": 0,
      "outputs": []
    },
    {
      "metadata": {
        "id": "8xsYNmmUjrSd",
        "colab_type": "code",
        "colab": {}
      },
      "cell_type": "code",
      "source": [
        "!mkdir VQA_Den"
      ],
      "execution_count": 0,
      "outputs": []
    },
    {
      "metadata": {
        "id": "JZH1LkDQkKs7",
        "colab_type": "code",
        "colab": {}
      },
      "cell_type": "code",
      "source": [
        "os.chdir('/usr/VQA_Den')"
      ],
      "execution_count": 0,
      "outputs": []
    },
    {
      "metadata": {
        "id": "Y9xpGqqMkP2v",
        "colab_type": "code",
        "colab": {}
      },
      "cell_type": "code",
      "source": [
        "#https://github.com/DenisDsh/VizWiz-VQA-PyTorch/archive/master.zip\n",
        "import io\n",
        "request = requests.get('https://github.com/DenisDsh/VizWiz-VQA-PyTorch/archive/master.zip')\n",
        "file = zipfile.ZipFile(io.BytesIO(request.content))\n",
        "file.extractall()"
      ],
      "execution_count": 0,
      "outputs": []
    },
    {
      "metadata": {
        "id": "MRYml-y7kci5",
        "colab_type": "code",
        "colab": {
          "base_uri": "https://localhost:8080/",
          "height": 35
        },
        "outputId": "3ad04370-2bdc-4594-a178-9353efb79bc8"
      },
      "cell_type": "code",
      "source": [
        "!ls"
      ],
      "execution_count": 11,
      "outputs": [
        {
          "output_type": "stream",
          "text": [
            "VizWiz-VQA-PyTorch-master\n"
          ],
          "name": "stdout"
        }
      ]
    },
    {
      "metadata": {
        "id": "alE-drcYlt8A",
        "colab_type": "code",
        "colab": {}
      },
      "cell_type": "code",
      "source": [
        "os.chdir('/usr/VQA_Den/VizWiz-VQA-PyTorch-master')"
      ],
      "execution_count": 0,
      "outputs": []
    },
    {
      "metadata": {
        "id": "3cljSSDJl0RN",
        "colab_type": "code",
        "colab": {
          "base_uri": "https://localhost:8080/",
          "height": 72
        },
        "outputId": "19a2289f-d86a-43e7-fd10-8304a37394bf"
      },
      "cell_type": "code",
      "source": [
        "!ls"
      ],
      "execution_count": 13,
      "outputs": [
        {
          "output_type": "stream",
          "text": [
            " config      predict.py      requirements.txt  'useful notebooks'\n",
            " datasets    preprocessing   soft.png\t        utils.py\n",
            " models.py   README.md\t     train.py\n"
          ],
          "name": "stdout"
        }
      ]
    },
    {
      "metadata": {
        "id": "ddb-L-QSl3mG",
        "colab_type": "code",
        "colab": {
          "base_uri": "https://localhost:8080/",
          "height": 3213
        },
        "outputId": "cb8f7a2e-02e9-4eed-ddf0-7265e96cc112"
      },
      "cell_type": "code",
      "source": [
        "!pip install -r requirements.txt"
      ],
      "execution_count": 14,
      "outputs": [
        {
          "output_type": "stream",
          "text": [
            "Requirement already satisfied: h5py==2.8.0 in /usr/local/lib/python3.6/dist-packages (from -r requirements.txt (line 1)) (2.8.0)\n",
            "Collecting hdijupyterutils==0.12.5 (from -r requirements.txt (line 2))\n",
            "  Downloading https://files.pythonhosted.org/packages/f4/60/b6b9e3cca2307838cfba8cbfe758fe69a2908ab1bab57c9183de63b5ad08/hdijupyterutils-0.12.5.tar.gz\n",
            "Requirement already satisfied: html5lib==1.0.1 in /usr/local/lib/python3.6/dist-packages (from -r requirements.txt (line 3)) (1.0.1)\n",
            "Collecting ipykernel==4.8.2 (from -r requirements.txt (line 4))\n",
            "\u001b[?25l  Downloading https://files.pythonhosted.org/packages/ab/3f/cd624c835aa3336a9110d0a99e15070f343b881b7d651ab1375ef226a3ac/ipykernel-4.8.2-py3-none-any.whl (108kB)\n",
            "\u001b[K    100% |████████████████████████████████| 112kB 2.7MB/s \n",
            "\u001b[?25hCollecting ipython==6.4.0 (from -r requirements.txt (line 5))\n",
            "\u001b[?25l  Downloading https://files.pythonhosted.org/packages/b1/7f/91d50f28af3e3a24342561983a7857e399ce24093876e6970b986a0b6677/ipython-6.4.0-py3-none-any.whl (750kB)\n",
            "\u001b[K    100% |████████████████████████████████| 757kB 22.1MB/s \n",
            "\u001b[?25hRequirement already satisfied: ipython-genutils==0.2.0 in /usr/local/lib/python3.6/dist-packages (from -r requirements.txt (line 6)) (0.2.0)\n",
            "Requirement already satisfied: jsonschema==2.6.0 in /usr/local/lib/python3.6/dist-packages (from -r requirements.txt (line 7)) (2.6.0)\n",
            "Collecting jupyter-client==5.2.3 (from -r requirements.txt (line 8))\n",
            "\u001b[?25l  Downloading https://files.pythonhosted.org/packages/94/dd/fe6c4d683b09eb05342bd2816b7779663f71762b4fa9c2d5203d35d17354/jupyter_client-5.2.3-py2.py3-none-any.whl (89kB)\n",
            "\u001b[K    100% |████████████████████████████████| 92kB 28.6MB/s \n",
            "\u001b[?25hRequirement already satisfied: jupyter-core==4.4.0 in /usr/local/lib/python3.6/dist-packages (from -r requirements.txt (line 9)) (4.4.0)\n",
            "Collecting nltk==3.3 (from -r requirements.txt (line 10))\n",
            "\u001b[?25l  Downloading https://files.pythonhosted.org/packages/50/09/3b1755d528ad9156ee7243d52aa5cd2b809ef053a0f31b53d92853dd653a/nltk-3.3.0.zip (1.4MB)\n",
            "\u001b[K    100% |████████████████████████████████| 1.4MB 17.0MB/s \n",
            "\u001b[?25hCollecting notebook==5.5.0 (from -r requirements.txt (line 11))\n",
            "\u001b[?25l  Downloading https://files.pythonhosted.org/packages/c0/66/cfed59f574d03ca5f1b7c5281485a9cc9a0f21342d24e0f057572316dae5/notebook-5.5.0-py2.py3-none-any.whl (8.4MB)\n",
            "\u001b[K    100% |████████████████████████████████| 8.4MB 4.8MB/s \n",
            "\u001b[?25hCollecting numpy==1.14.5 (from -r requirements.txt (line 12))\n",
            "\u001b[?25l  Downloading https://files.pythonhosted.org/packages/68/1e/116ad560de97694e2d0c1843a7a0075cc9f49e922454d32f49a80eb6f1f2/numpy-1.14.5-cp36-cp36m-manylinux1_x86_64.whl (12.2MB)\n",
            "\u001b[K    100% |████████████████████████████████| 12.2MB 4.1MB/s \n",
            "\u001b[?25hRequirement already satisfied: pandas==0.22.0 in /usr/local/lib/python3.6/dist-packages (from -r requirements.txt (line 13)) (0.22.0)\n",
            "Requirement already satisfied: prompt-toolkit==1.0.15 in /usr/local/lib/python3.6/dist-packages (from -r requirements.txt (line 14)) (1.0.15)\n",
            "Collecting protobuf==3.5.2 (from -r requirements.txt (line 15))\n",
            "\u001b[?25l  Downloading https://files.pythonhosted.org/packages/9b/0d/6e9cf54be86c742a375a0ca0addadb582c890939b1b6d3339570e51091bd/protobuf-3.5.2-cp36-cp36m-manylinux1_x86_64.whl (6.4MB)\n",
            "\u001b[K    100% |████████████████████████████████| 6.4MB 7.7MB/s \n",
            "\u001b[?25hCollecting pycparser==2.18 (from -r requirements.txt (line 16))\n",
            "\u001b[?25l  Downloading https://files.pythonhosted.org/packages/8c/2d/aad7f16146f4197a11f8e91fb81df177adcc2073d36a17b1491fd09df6ed/pycparser-2.18.tar.gz (245kB)\n",
            "\u001b[K    100% |████████████████████████████████| 256kB 29.3MB/s \n",
            "\u001b[?25hCollecting pyparsing==2.2.0 (from -r requirements.txt (line 17))\n",
            "\u001b[?25l  Downloading https://files.pythonhosted.org/packages/6a/8a/718fd7d3458f9fab8e67186b00abdd345b639976bc7fb3ae722e1b026a50/pyparsing-2.2.0-py2.py3-none-any.whl (56kB)\n",
            "\u001b[K    100% |████████████████████████████████| 61kB 23.1MB/s \n",
            "\u001b[?25hCollecting python-dateutil==2.7.3 (from -r requirements.txt (line 18))\n",
            "\u001b[?25l  Downloading https://files.pythonhosted.org/packages/cf/f5/af2b09c957ace60dcfac112b669c45c8c97e32f94aa8b56da4c6d1682825/python_dateutil-2.7.3-py2.py3-none-any.whl (211kB)\n",
            "\u001b[K    100% |████████████████████████████████| 215kB 25.2MB/s \n",
            "\u001b[?25hCollecting PyYAML==3.12 (from -r requirements.txt (line 19))\n",
            "\u001b[?25l  Downloading https://files.pythonhosted.org/packages/4a/85/db5a2df477072b2902b0eb892feb37d88ac635d36245a72a6a69b23b383a/PyYAML-3.12.tar.gz (253kB)\n",
            "\u001b[K    100% |████████████████████████████████| 256kB 24.9MB/s \n",
            "\u001b[?25hCollecting scikit-learn==0.19.1 (from -r requirements.txt (line 20))\n",
            "\u001b[?25l  Downloading https://files.pythonhosted.org/packages/3d/2d/9fbc7baa5f44bc9e88ffb7ed32721b879bfa416573e85031e16f52569bc9/scikit_learn-0.19.1-cp36-cp36m-manylinux1_x86_64.whl (12.4MB)\n",
            "\u001b[K    100% |████████████████████████████████| 12.4MB 3.6MB/s \n",
            "\u001b[?25hRequirement already satisfied: scipy==1.1.0 in /usr/local/lib/python3.6/dist-packages (from -r requirements.txt (line 21)) (1.1.0)\n",
            "Collecting torch==0.4.0 (from -r requirements.txt (line 22))\n",
            "\u001b[?25l  Downloading https://files.pythonhosted.org/packages/69/43/380514bd9663f1bf708abeb359b8b48d3fabb1c8e95bb3427a980a064c57/torch-0.4.0-cp36-cp36m-manylinux1_x86_64.whl (484.0MB)\n",
            "\u001b[K    100% |████████████████████████████████| 484.0MB 30kB/s \n",
            "\u001b[?25hCollecting torchvision==0.2.1 (from -r requirements.txt (line 23))\n",
            "\u001b[?25l  Downloading https://files.pythonhosted.org/packages/ca/0d/f00b2885711e08bd71242ebe7b96561e6f6d01fdb4b9dcf4d37e2e13c5e1/torchvision-0.2.1-py2.py3-none-any.whl (54kB)\n",
            "\u001b[K    100% |████████████████████████████████| 61kB 21.8MB/s \n",
            "\u001b[?25hCollecting tqdm==4.23.4 (from -r requirements.txt (line 24))\n",
            "\u001b[?25l  Downloading https://files.pythonhosted.org/packages/93/24/6ab1df969db228aed36a648a8959d1027099ce45fad67532b9673d533318/tqdm-4.23.4-py2.py3-none-any.whl (42kB)\n",
            "\u001b[K    100% |████████████████████████████████| 51kB 16.9MB/s \n",
            "\u001b[?25hRequirement already satisfied: six in /usr/local/lib/python3.6/dist-packages (from h5py==2.8.0->-r requirements.txt (line 1)) (1.11.0)\n",
            "Requirement already satisfied: nose in /usr/local/lib/python3.6/dist-packages (from hdijupyterutils==0.12.5->-r requirements.txt (line 2)) (1.3.7)\n",
            "Requirement already satisfied: mock in /usr/local/lib/python3.6/dist-packages (from hdijupyterutils==0.12.5->-r requirements.txt (line 2)) (2.0.0)\n",
            "Requirement already satisfied: ipywidgets>5.0.0 in /usr/local/lib/python3.6/dist-packages (from hdijupyterutils==0.12.5->-r requirements.txt (line 2)) (7.4.2)\n",
            "Requirement already satisfied: jupyter<2,>=1 in /usr/local/lib/python3.6/dist-packages (from hdijupyterutils==0.12.5->-r requirements.txt (line 2)) (1.0.0)\n",
            "Requirement already satisfied: webencodings in /usr/local/lib/python3.6/dist-packages (from html5lib==1.0.1->-r requirements.txt (line 3)) (0.5.1)\n",
            "Requirement already satisfied: tornado>=4.0 in /usr/local/lib/python3.6/dist-packages (from ipykernel==4.8.2->-r requirements.txt (line 4)) (4.5.3)\n",
            "Requirement already satisfied: traitlets>=4.1.0 in /usr/local/lib/python3.6/dist-packages (from ipykernel==4.8.2->-r requirements.txt (line 4)) (4.3.2)\n",
            "Requirement already satisfied: decorator in /usr/local/lib/python3.6/dist-packages (from ipython==6.4.0->-r requirements.txt (line 5)) (4.3.2)\n",
            "Requirement already satisfied: simplegeneric>0.8 in /usr/local/lib/python3.6/dist-packages (from ipython==6.4.0->-r requirements.txt (line 5)) (0.8.1)\n",
            "Requirement already satisfied: jedi>=0.10 in /usr/local/lib/python3.6/dist-packages (from ipython==6.4.0->-r requirements.txt (line 5)) (0.13.3)\n",
            "Requirement already satisfied: backcall in /usr/local/lib/python3.6/dist-packages (from ipython==6.4.0->-r requirements.txt (line 5)) (0.1.0)\n",
            "Requirement already satisfied: setuptools>=18.5 in /usr/local/lib/python3.6/dist-packages (from ipython==6.4.0->-r requirements.txt (line 5)) (40.8.0)\n",
            "Requirement already satisfied: pexpect; sys_platform != \"win32\" in /usr/local/lib/python3.6/dist-packages (from ipython==6.4.0->-r requirements.txt (line 5)) (4.6.0)\n",
            "Requirement already satisfied: pickleshare in /usr/local/lib/python3.6/dist-packages (from ipython==6.4.0->-r requirements.txt (line 5)) (0.7.5)\n",
            "Requirement already satisfied: pygments in /usr/local/lib/python3.6/dist-packages (from ipython==6.4.0->-r requirements.txt (line 5)) (2.1.3)\n",
            "Requirement already satisfied: pyzmq>=13 in /usr/local/lib/python3.6/dist-packages (from jupyter-client==5.2.3->-r requirements.txt (line 8)) (17.0.0)\n",
            "Requirement already satisfied: nbformat in /usr/local/lib/python3.6/dist-packages (from notebook==5.5.0->-r requirements.txt (line 11)) (4.4.0)\n",
            "Requirement already satisfied: terminado>=0.8.1 in /usr/local/lib/python3.6/dist-packages (from notebook==5.5.0->-r requirements.txt (line 11)) (0.8.1)\n",
            "Requirement already satisfied: nbconvert in /usr/local/lib/python3.6/dist-packages (from notebook==5.5.0->-r requirements.txt (line 11)) (5.4.1)\n",
            "Requirement already satisfied: Send2Trash in /usr/local/lib/python3.6/dist-packages (from notebook==5.5.0->-r requirements.txt (line 11)) (1.5.0)\n",
            "Requirement already satisfied: jinja2 in /usr/local/lib/python3.6/dist-packages (from notebook==5.5.0->-r requirements.txt (line 11)) (2.10)\n",
            "Requirement already satisfied: pytz>=2011k in /usr/local/lib/python3.6/dist-packages (from pandas==0.22.0->-r requirements.txt (line 13)) (2018.9)\n",
            "Requirement already satisfied: wcwidth in /usr/local/lib/python3.6/dist-packages (from prompt-toolkit==1.0.15->-r requirements.txt (line 14)) (0.1.7)\n",
            "Requirement already satisfied: pillow>=4.1.1 in /usr/local/lib/python3.6/dist-packages (from torchvision==0.2.1->-r requirements.txt (line 23)) (4.1.1)\n",
            "Requirement already satisfied: pbr>=0.11 in /usr/local/lib/python3.6/dist-packages (from mock->hdijupyterutils==0.12.5->-r requirements.txt (line 2)) (5.1.3)\n",
            "Requirement already satisfied: widgetsnbextension~=3.4.0 in /usr/local/lib/python3.6/dist-packages (from ipywidgets>5.0.0->hdijupyterutils==0.12.5->-r requirements.txt (line 2)) (3.4.2)\n",
            "Requirement already satisfied: jupyter-console in /usr/local/lib/python3.6/dist-packages (from jupyter<2,>=1->hdijupyterutils==0.12.5->-r requirements.txt (line 2)) (6.0.0)\n",
            "Requirement already satisfied: qtconsole in /usr/local/lib/python3.6/dist-packages (from jupyter<2,>=1->hdijupyterutils==0.12.5->-r requirements.txt (line 2)) (4.4.3)\n",
            "Requirement already satisfied: parso>=0.3.0 in /usr/local/lib/python3.6/dist-packages (from jedi>=0.10->ipython==6.4.0->-r requirements.txt (line 5)) (0.3.4)\n",
            "Requirement already satisfied: ptyprocess>=0.5 in /usr/local/lib/python3.6/dist-packages (from pexpect; sys_platform != \"win32\"->ipython==6.4.0->-r requirements.txt (line 5)) (0.6.0)\n",
            "Requirement already satisfied: bleach in /usr/local/lib/python3.6/dist-packages (from nbconvert->notebook==5.5.0->-r requirements.txt (line 11)) (3.1.0)\n",
            "Requirement already satisfied: testpath in /usr/local/lib/python3.6/dist-packages (from nbconvert->notebook==5.5.0->-r requirements.txt (line 11)) (0.4.2)\n",
            "Requirement already satisfied: pandocfilters>=1.4.1 in /usr/local/lib/python3.6/dist-packages (from nbconvert->notebook==5.5.0->-r requirements.txt (line 11)) (1.4.2)\n",
            "Requirement already satisfied: defusedxml in /usr/local/lib/python3.6/dist-packages (from nbconvert->notebook==5.5.0->-r requirements.txt (line 11)) (0.5.0)\n",
            "Requirement already satisfied: entrypoints>=0.2.2 in /usr/local/lib/python3.6/dist-packages (from nbconvert->notebook==5.5.0->-r requirements.txt (line 11)) (0.3)\n",
            "Requirement already satisfied: mistune>=0.8.1 in /usr/local/lib/python3.6/dist-packages (from nbconvert->notebook==5.5.0->-r requirements.txt (line 11)) (0.8.4)\n",
            "Requirement already satisfied: MarkupSafe>=0.23 in /usr/local/lib/python3.6/dist-packages (from jinja2->notebook==5.5.0->-r requirements.txt (line 11)) (1.1.1)\n",
            "Requirement already satisfied: olefile in /usr/local/lib/python3.6/dist-packages (from pillow>=4.1.1->torchvision==0.2.1->-r requirements.txt (line 23)) (0.46)\n",
            "Building wheels for collected packages: hdijupyterutils, nltk, pycparser, PyYAML\n",
            "  Building wheel for hdijupyterutils (setup.py) ... \u001b[?25ldone\n",
            "\u001b[?25h  Stored in directory: /root/.cache/pip/wheels/6a/ec/f4/1c20acc19c60a951e6ae97badc6541d1ca632b3cf63dffdddc\n",
            "  Building wheel for nltk (setup.py) ... \u001b[?25ldone\n",
            "\u001b[?25h  Stored in directory: /root/.cache/pip/wheels/d1/ab/40/3bceea46922767e42986aef7606a600538ca80de6062dc266c\n",
            "  Building wheel for pycparser (setup.py) ... \u001b[?25ldone\n",
            "\u001b[?25h  Stored in directory: /root/.cache/pip/wheels/c0/a1/27/5ba234bd77ea5a290cbf6d675259ec52293193467a12ef1f46\n",
            "  Building wheel for PyYAML (setup.py) ... \u001b[?25ldone\n",
            "\u001b[?25h  Stored in directory: /root/.cache/pip/wheels/03/05/65/bdc14f2c6e09e82ae3e0f13d021e1b6b2481437ea2f207df3f\n",
            "Successfully built hdijupyterutils nltk pycparser PyYAML\n",
            "\u001b[31myellowbrick 0.9.1 has requirement scikit-learn>=0.20, but you'll have scikit-learn 0.19.1 which is incompatible.\u001b[0m\n",
            "\u001b[31mtfds-nightly 1.0.1.dev201903040105 has requirement protobuf>=3.6.1, but you'll have protobuf 3.5.2 which is incompatible.\u001b[0m\n",
            "\u001b[31mtensorflow 1.13.1 has requirement protobuf>=3.6.1, but you'll have protobuf 3.5.2 which is incompatible.\u001b[0m\n",
            "\u001b[31mtensorflow-metadata 0.12.1 has requirement protobuf<4,>=3.6.1, but you'll have protobuf 3.5.2 which is incompatible.\u001b[0m\n",
            "\u001b[31mtensorboard 1.13.0 has requirement protobuf>=3.6.0, but you'll have protobuf 3.5.2 which is incompatible.\u001b[0m\n",
            "\u001b[31mspacy 2.0.18 has requirement numpy>=1.15.0, but you'll have numpy 1.14.5 which is incompatible.\u001b[0m\n",
            "\u001b[31mjupyter-console 6.0.0 has requirement prompt-toolkit<2.1.0,>=2.0.0, but you'll have prompt-toolkit 1.0.15 which is incompatible.\u001b[0m\n",
            "\u001b[31mimgaug 0.2.8 has requirement numpy>=1.15.0, but you'll have numpy 1.14.5 which is incompatible.\u001b[0m\n",
            "\u001b[31mimbalanced-learn 0.4.3 has requirement scikit-learn>=0.20, but you'll have scikit-learn 0.19.1 which is incompatible.\u001b[0m\n",
            "\u001b[31mgoogleapis-common-protos 1.5.8 has requirement protobuf>=3.6.0, but you'll have protobuf 3.5.2 which is incompatible.\u001b[0m\n",
            "\u001b[31mgoogle-colab 1.0.0 has requirement ipykernel~=4.6.0, but you'll have ipykernel 4.8.2 which is incompatible.\u001b[0m\n",
            "\u001b[31mgoogle-colab 1.0.0 has requirement ipython~=5.5.0, but you'll have ipython 6.4.0 which is incompatible.\u001b[0m\n",
            "\u001b[31mgoogle-colab 1.0.0 has requirement notebook~=5.2.0, but you'll have notebook 5.5.0 which is incompatible.\u001b[0m\n",
            "\u001b[31mfeaturetools 0.4.1 has requirement pandas>=0.23.0, but you'll have pandas 0.22.0 which is incompatible.\u001b[0m\n",
            "\u001b[31mfastai 1.0.46 has requirement numpy>=1.15, but you'll have numpy 1.14.5 which is incompatible.\u001b[0m\n",
            "\u001b[31mfastai 1.0.46 has requirement torch>=1.0.0, but you'll have torch 0.4.0 which is incompatible.\u001b[0m\n",
            "\u001b[31malbumentations 0.1.12 has requirement imgaug<0.2.7,>=0.2.5, but you'll have imgaug 0.2.8 which is incompatible.\u001b[0m\n",
            "Installing collected packages: ipython, python-dateutil, jupyter-client, ipykernel, numpy, notebook, hdijupyterutils, nltk, protobuf, pycparser, pyparsing, PyYAML, scikit-learn, torch, torchvision, tqdm\n",
            "  Found existing installation: ipython 5.5.0\n",
            "    Uninstalling ipython-5.5.0:\n",
            "      Successfully uninstalled ipython-5.5.0\n",
            "  Found existing installation: python-dateutil 2.5.3\n",
            "    Uninstalling python-dateutil-2.5.3:\n",
            "      Successfully uninstalled python-dateutil-2.5.3\n",
            "  Found existing installation: jupyter-client 5.2.4\n",
            "    Uninstalling jupyter-client-5.2.4:\n",
            "      Successfully uninstalled jupyter-client-5.2.4\n",
            "  Found existing installation: ipykernel 4.6.1\n",
            "    Uninstalling ipykernel-4.6.1:\n",
            "      Successfully uninstalled ipykernel-4.6.1\n",
            "  Found existing installation: numpy 1.14.6\n",
            "    Uninstalling numpy-1.14.6:\n",
            "      Successfully uninstalled numpy-1.14.6\n",
            "  Found existing installation: notebook 5.2.2\n",
            "    Uninstalling notebook-5.2.2:\n",
            "      Successfully uninstalled notebook-5.2.2\n",
            "  Found existing installation: nltk 3.2.5\n",
            "    Uninstalling nltk-3.2.5:\n",
            "      Successfully uninstalled nltk-3.2.5\n",
            "  Found existing installation: protobuf 3.6.1\n",
            "    Uninstalling protobuf-3.6.1:\n",
            "      Successfully uninstalled protobuf-3.6.1\n",
            "  Found existing installation: pycparser 2.19\n",
            "    Uninstalling pycparser-2.19:\n",
            "      Successfully uninstalled pycparser-2.19\n",
            "  Found existing installation: pyparsing 2.3.1\n",
            "    Uninstalling pyparsing-2.3.1:\n",
            "      Successfully uninstalled pyparsing-2.3.1\n",
            "  Found existing installation: PyYAML 3.13\n",
            "    Uninstalling PyYAML-3.13:\n",
            "      Successfully uninstalled PyYAML-3.13\n",
            "  Found existing installation: scikit-learn 0.20.3\n",
            "    Uninstalling scikit-learn-0.20.3:\n",
            "      Successfully uninstalled scikit-learn-0.20.3\n",
            "  Found existing installation: torch 1.0.1.post2\n",
            "    Uninstalling torch-1.0.1.post2:\n",
            "      Successfully uninstalled torch-1.0.1.post2\n",
            "  Found existing installation: torchvision 0.2.2.post3\n",
            "    Uninstalling torchvision-0.2.2.post3:\n",
            "      Successfully uninstalled torchvision-0.2.2.post3\n",
            "  Found existing installation: tqdm 4.28.1\n",
            "    Uninstalling tqdm-4.28.1:\n",
            "      Successfully uninstalled tqdm-4.28.1\n",
            "Successfully installed PyYAML-3.12 hdijupyterutils-0.12.5 ipykernel-4.8.2 ipython-6.4.0 jupyter-client-5.2.3 nltk-3.3 notebook-5.5.0 numpy-1.14.5 protobuf-3.5.2 pycparser-2.18 pyparsing-2.2.0 python-dateutil-2.7.3 scikit-learn-0.19.1 torch-0.4.0 torchvision-0.2.1 tqdm-4.23.4\n"
          ],
          "name": "stdout"
        },
        {
          "output_type": "display_data",
          "data": {
            "application/vnd.colab-display-data+json": {
              "pip_warning": {
                "packages": [
                  "IPython",
                  "dateutil",
                  "google",
                  "ipykernel",
                  "jupyter_client",
                  "numpy",
                  "pyparsing"
                ]
              }
            }
          },
          "metadata": {
            "tags": []
          }
        }
      ]
    },
    {
      "metadata": {
        "id": "EQUZToTOqjaE",
        "colab_type": "code",
        "colab": {}
      },
      "cell_type": "code",
      "source": [
        "import os\n",
        "os.chdir('/usr/VQA_Den/VizWiz-VQA-PyTorch-master')"
      ],
      "execution_count": 0,
      "outputs": []
    },
    {
      "metadata": {
        "id": "vXS0nnZ2qvnf",
        "colab_type": "code",
        "colab": {
          "base_uri": "https://localhost:8080/",
          "height": 72
        },
        "outputId": "2e930272-74f5-44ab-dd52-ff79dac5ff3e"
      },
      "cell_type": "code",
      "source": [
        "!ls"
      ],
      "execution_count": 8,
      "outputs": [
        {
          "output_type": "stream",
          "text": [
            " config      predict.py      requirements.txt  'useful notebooks'\n",
            " datasets    preprocessing   soft.png\t        utils.py\n",
            " models.py   README.md\t     train.py\n"
          ],
          "name": "stdout"
        }
      ]
    },
    {
      "metadata": {
        "id": "yxGNE3bBl87V",
        "colab_type": "code",
        "colab": {
          "base_uri": "https://localhost:8080/",
          "height": 219
        },
        "outputId": "7aeab5ae-575f-436e-a77d-83d229766dac"
      },
      "cell_type": "code",
      "source": [
        "!wget https://ivc.ischool.utexas.edu/VizWiz/data/VizWiz_data_ver1.tar.gz"
      ],
      "execution_count": 9,
      "outputs": [
        {
          "output_type": "stream",
          "text": [
            "--2019-03-09 08:56:37--  https://ivc.ischool.utexas.edu/VizWiz/data/VizWiz_data_ver1.tar.gz\n",
            "Resolving ivc.ischool.utexas.edu (ivc.ischool.utexas.edu)... 146.6.168.124\n",
            "Connecting to ivc.ischool.utexas.edu (ivc.ischool.utexas.edu)|146.6.168.124|:443... connected.\n",
            "HTTP request sent, awaiting response... 200 OK\n",
            "Length: 15394669439 (14G) [application/x-gzip]\n",
            "Saving to: ‘VizWiz_data_ver1.tar.gz’\n",
            "\n",
            "VizWiz_data_ver1.ta 100%[===================>]  14.34G  62.7MB/s    in 3m 33s  \n",
            "\n",
            "2019-03-09 09:00:11 (68.8 MB/s) - ‘VizWiz_data_ver1.tar.gz’ saved [15394669439/15394669439]\n",
            "\n"
          ],
          "name": "stdout"
        }
      ]
    },
    {
      "metadata": {
        "id": "hnvBoKErp03u",
        "colab_type": "code",
        "colab": {
          "base_uri": "https://localhost:8080/",
          "height": 72
        },
        "outputId": "0c26e98c-6da1-4ec5-fe91-377e6b2196f2"
      },
      "cell_type": "code",
      "source": [
        "!ls"
      ],
      "execution_count": 10,
      "outputs": [
        {
          "output_type": "stream",
          "text": [
            " config      predict.py      requirements.txt  'useful notebooks'\n",
            " datasets    preprocessing   soft.png\t        utils.py\n",
            " models.py   README.md\t     train.py\t        VizWiz_data_ver1.tar.gz\n"
          ],
          "name": "stdout"
        }
      ]
    },
    {
      "metadata": {
        "id": "1W7SXW2gmhGI",
        "colab_type": "code",
        "colab": {}
      },
      "cell_type": "code",
      "source": [
        "!tar -xzf VizWiz_data_ver1.tar.gz"
      ],
      "execution_count": 0,
      "outputs": []
    },
    {
      "metadata": {
        "id": "kIrE6gMBqcQY",
        "colab_type": "code",
        "colab": {
          "base_uri": "https://localhost:8080/",
          "height": 90
        },
        "outputId": "da47a84c-8599-4c2b-b713-1ffa282e794d"
      },
      "cell_type": "code",
      "source": [
        "!ls"
      ],
      "execution_count": 12,
      "outputs": [
        {
          "output_type": "stream",
          "text": [
            " config      predict.py         soft.png\t    VizWiz_data_ver1.tar.gz\n",
            " data\t     preprocessing      train.py\n",
            " datasets    README.md\t       'useful notebooks'\n",
            " models.py   requirements.txt   utils.py\n"
          ],
          "name": "stdout"
        }
      ]
    },
    {
      "metadata": {
        "id": "dbuyDOaotruk",
        "colab_type": "code",
        "colab": {}
      },
      "cell_type": "code",
      "source": [
        "os.chdir('/usr/VQA_Den/VizWiz-VQA-PyTorch-master/data/Images')"
      ],
      "execution_count": 0,
      "outputs": []
    },
    {
      "metadata": {
        "id": "l4nwF12Et_E7",
        "colab_type": "code",
        "colab": {}
      },
      "cell_type": "code",
      "source": [
        "#Removed files containing _VizWiz in the name\n",
        "!rm ._*"
      ],
      "execution_count": 0,
      "outputs": []
    },
    {
      "metadata": {
        "id": "1_9ExT6_1nBi",
        "colab_type": "code",
        "colab": {}
      },
      "cell_type": "code",
      "source": [
        "#Update the config/default.yaml with the location of downloaded Images folder"
      ],
      "execution_count": 0,
      "outputs": []
    },
    {
      "metadata": {
        "id": "QquFDuOf1thI",
        "colab_type": "code",
        "colab": {}
      },
      "cell_type": "code",
      "source": [
        "os.chdir('/usr/VQA_Den/VizWiz-VQA-PyTorch-master')"
      ],
      "execution_count": 0,
      "outputs": []
    },
    {
      "metadata": {
        "id": "pQIFVh6z11KF",
        "colab_type": "code",
        "colab": {}
      },
      "cell_type": "code",
      "source": [
        "!mkdir prepro_data"
      ],
      "execution_count": 0,
      "outputs": []
    },
    {
      "metadata": {
        "id": "3HmyfbTsuAWC",
        "colab_type": "code",
        "colab": {}
      },
      "cell_type": "code",
      "source": [
        "os.chdir('/usr/VQA_Den/VizWiz-VQA-PyTorch-master/preprocessing')"
      ],
      "execution_count": 0,
      "outputs": []
    },
    {
      "metadata": {
        "id": "g1UspeY3zM0Y",
        "colab_type": "code",
        "colab": {
          "base_uri": "https://localhost:8080/",
          "height": 35
        },
        "outputId": "055640d0-55dc-4f38-d574-0b0f5f94bdb2"
      },
      "cell_type": "code",
      "source": [
        "!ls"
      ],
      "execution_count": 30,
      "outputs": [
        {
          "output_type": "stream",
          "text": [
            "create_vocabs.py  image_features_extraction.py\tpreprocessing_utils.py\n"
          ],
          "name": "stdout"
        }
      ]
    },
    {
      "metadata": {
        "id": "6kG9Key4vGra",
        "colab_type": "code",
        "colab": {
          "base_uri": "https://localhost:8080/",
          "height": 202
        },
        "outputId": "60edbb5f-c326-4778-c576-4dabbadbda70"
      },
      "cell_type": "code",
      "source": [
        "!python image_features_extraction.py"
      ],
      "execution_count": 32,
      "outputs": [
        {
          "output_type": "stream",
          "text": [
            "Found 31173 images in /usr/VQA_Den/VizWiz-VQA-PyTorch-master/data/Images\n",
            "image_features_extraction.py:79: UserWarning: volatile was removed and now has no effect. Use `with torch.no_grad():` instead.\n",
            "  dummy_input = Variable(torch.ones(1, 3, config['img_size'], config['img_size']), volatile=True).cuda()\n",
            "Extracting features ...\n",
            "  0% 0/7794 [00:00<?, ?it/s]image_features_extraction.py:109: UserWarning: volatile was removed and now has no effect. Use `with torch.no_grad():` instead.\n",
            "  inputs_img = Variable(inputs['visual'].cuda(async=True), volatile=True)\n",
            "100% 7794/7794 [47:10<00:00,  2.75it/s]\n",
            "Finished in 47m and 10s\n",
            "Created file : /usr/VQA_Den/VizWiz-VQA-PyTorch-master/prepro_data/resnet14x14.h5\n"
          ],
          "name": "stdout"
        }
      ]
    },
    {
      "metadata": {
        "id": "H2DZ1-NoxKYp",
        "colab_type": "code",
        "colab": {
          "base_uri": "https://localhost:8080/",
          "height": 586
        },
        "outputId": "b3303b8a-787f-48f7-e098-d5aded6b445f"
      },
      "cell_type": "code",
      "source": [
        "!python create_vocabs.py"
      ],
      "execution_count": 35,
      "outputs": [
        {
          "output_type": "stream",
          "text": [
            "{'annotations': {'dir': '/usr/VQA_Den/VizWiz-VQA-PyTorch-master/data/Annotations',\n",
            "                 'max_length': 26,\n",
            "                 'min_count_word': 0,\n",
            "                 'path_vocabs': '/usr/VQA_Den/VizWiz-VQA-PyTorch-master/prepro_data/vocabs.json',\n",
            "                 'top_ans': 3000},\n",
            " 'images': {'arch': 'ResNet152',\n",
            "            'dir': '/usr/VQA_Den/VizWiz-VQA-PyTorch-master/data/Images',\n",
            "            'img_size': 448,\n",
            "            'mode': 'att',\n",
            "            'path_features': '/usr/VQA_Den/VizWiz-VQA-PyTorch-master/prepro_data/resnet14x14.h5',\n",
            "            'preprocess_batch_size': 4,\n",
            "            'preprocess_data_workers': 4},\n",
            " 'logs': {'dir_logs': 'logs/vizwiz/'},\n",
            " 'model': {'attention': {'dropout': 0.5, 'glimpses': 2, 'mid_features': 512},\n",
            "           'classifier': {'dropout': 0.5},\n",
            "           'pooling': {'dim_h': 1024,\n",
            "                       'dim_q': 1024,\n",
            "                       'dim_v': 2048,\n",
            "                       'dropout_q': 0.5,\n",
            "                       'dropout_v': 0.5},\n",
            "           'pretrained_model': None,\n",
            "           'seq2vec': {'dropout': 0.25, 'emb_size': 300}},\n",
            " 'prediction': {'model_path': './logs/vizwiz/2018-09-20_13:04:05/final_log.pth',\n",
            "                'split': 'test',\n",
            "                'submission_file': './predictions/default_pred.json'},\n",
            " 'training': {'batch_size': 128,\n",
            "              'data_workers': 4,\n",
            "              'epochs': 50,\n",
            "              'lr': 0.001,\n",
            "              'train_split': 'train'}}\n",
            "vocabs saved in /usr/VQA_Den/VizWiz-VQA-PyTorch-master/prepro_data/vocabs.json\n"
          ],
          "name": "stdout"
        }
      ]
    },
    {
      "metadata": {
        "id": "Bl5-ALOGERtF",
        "colab_type": "code",
        "colab": {}
      },
      "cell_type": "code",
      "source": [
        "os.chdir('/usr/VQA_Den/VizWiz-VQA-PyTorch-master')"
      ],
      "execution_count": 0,
      "outputs": []
    },
    {
      "metadata": {
        "id": "eRj1Lp0qFJlb",
        "colab_type": "code",
        "colab": {
          "base_uri": "https://localhost:8080/",
          "height": 1872
        },
        "outputId": "decb5659-1349-4028-b759-16be37e87e11"
      },
      "cell_type": "code",
      "source": [
        "!python train.py"
      ],
      "execution_count": 37,
      "outputs": [
        {
          "output_type": "stream",
          "text": [
            "Model logs will be saved in logs/vizwiz/2019-03-09_10:52:12\n",
            "train E000: 100% 152/152 [02:48<00:00,  1.11s/it, acc=0.2923, loss=4.2757]\n",
            "val E000: 100% 25/25 [00:32<00:00,  1.30s/it, acc=0.3844, loss=2.8395]\n",
            "train E001: 100% 152/152 [02:48<00:00,  1.11s/it, acc=0.3947, loss=3.4434]\n",
            "val E001: 100% 25/25 [00:26<00:00,  1.06s/it, acc=0.3942, loss=2.7619]\n",
            "train E002: 100% 152/152 [02:41<00:00,  1.06s/it, acc=0.4140, loss=3.2958]\n",
            "val E002: 100% 25/25 [00:25<00:00,  1.02s/it, acc=0.4114, loss=2.6610]\n",
            "train E003: 100% 152/152 [02:37<00:00,  1.04s/it, acc=0.4281, loss=3.1480]\n",
            "val E003: 100% 25/25 [00:26<00:00,  1.05s/it, acc=0.4131, loss=2.6188]\n",
            "train E004: 100% 152/152 [02:38<00:00,  1.04s/it, acc=0.4409, loss=3.0137]\n",
            "val E004: 100% 25/25 [00:25<00:00,  1.03s/it, acc=0.4191, loss=2.5464]\n",
            "train E005: 100% 152/152 [02:43<00:00,  1.08s/it, acc=0.4542, loss=2.9011]\n",
            "val E005: 100% 25/25 [00:25<00:00,  1.03s/it, acc=0.4204, loss=2.5111]\n",
            "train E006: 100% 152/152 [02:41<00:00,  1.07s/it, acc=0.4569, loss=2.8295]\n",
            "val E006: 100% 25/25 [00:25<00:00,  1.04s/it, acc=0.4183, loss=2.4819]\n",
            "train E007: 100% 152/152 [02:43<00:00,  1.08s/it, acc=0.4597, loss=2.7177]\n",
            "val E007: 100% 25/25 [00:25<00:00,  1.02s/it, acc=0.4313, loss=2.4402]\n",
            "train E008: 100% 152/152 [02:47<00:00,  1.11s/it, acc=0.4627, loss=2.6360]\n",
            "val E008: 100% 25/25 [00:28<00:00,  1.12s/it, acc=0.4275, loss=2.4282]\n",
            "train E009: 100% 152/152 [02:39<00:00,  1.05s/it, acc=0.4685, loss=2.5404]\n",
            "val E009: 100% 25/25 [00:26<00:00,  1.06s/it, acc=0.4293, loss=2.4288]\n",
            "train E010: 100% 152/152 [02:43<00:00,  1.07s/it, acc=0.4775, loss=2.4759]\n",
            "val E010: 100% 25/25 [00:26<00:00,  1.06s/it, acc=0.4232, loss=2.4474]\n",
            "train E011: 100% 152/152 [02:42<00:00,  1.07s/it, acc=0.4849, loss=2.3798]\n",
            "val E011: 100% 25/25 [00:26<00:00,  1.07s/it, acc=0.4257, loss=2.4295]\n",
            "train E012: 100% 152/152 [02:40<00:00,  1.06s/it, acc=0.4922, loss=2.3095]\n",
            "val E012: 100% 25/25 [00:26<00:00,  1.05s/it, acc=0.4298, loss=2.4012]\n",
            "train E013: 100% 152/152 [02:40<00:00,  1.06s/it, acc=0.4875, loss=2.2596]\n",
            "val E013: 100% 25/25 [00:27<00:00,  1.10s/it, acc=0.4173, loss=2.4278]\n",
            "train E014: 100% 152/152 [02:41<00:00,  1.06s/it, acc=0.5016, loss=2.2326]\n",
            "val E014: 100% 25/25 [00:26<00:00,  1.04s/it, acc=0.4215, loss=2.4058]\n",
            "train E015: 100% 152/152 [02:48<00:00,  1.11s/it, acc=0.5029, loss=2.2194]\n",
            "val E015: 100% 25/25 [00:27<00:00,  1.09s/it, acc=0.4302, loss=2.3682]\n",
            "train E016: 100% 152/152 [02:41<00:00,  1.06s/it, acc=0.5146, loss=2.1515]\n",
            "val E016: 100% 25/25 [00:25<00:00,  1.04s/it, acc=0.4283, loss=2.3946]\n",
            "train E017: 100% 152/152 [02:44<00:00,  1.08s/it, acc=0.5302, loss=2.1126]\n",
            "val E017: 100% 25/25 [00:27<00:00,  1.08s/it, acc=0.4293, loss=2.3624]\n",
            "train E018: 100% 152/152 [02:44<00:00,  1.08s/it, acc=0.5303, loss=2.0691]\n",
            "val E018: 100% 25/25 [00:26<00:00,  1.07s/it, acc=0.4423, loss=2.3626]\n",
            "train E019: 100% 152/152 [02:45<00:00,  1.09s/it, acc=0.5410, loss=2.0565]\n",
            "val E019: 100% 25/25 [00:27<00:00,  1.08s/it, acc=0.4243, loss=2.4016]\n",
            "train E020: 100% 152/152 [02:46<00:00,  1.09s/it, acc=0.5500, loss=2.0147]\n",
            "val E020: 100% 25/25 [00:27<00:00,  1.10s/it, acc=0.4289, loss=2.3974]\n",
            "train E021: 100% 152/152 [02:51<00:00,  1.13s/it, acc=0.5431, loss=2.0150]\n",
            "val E021: 100% 25/25 [00:29<00:00,  1.19s/it, acc=0.4235, loss=2.4287]\n",
            "train E022: 100% 152/152 [02:42<00:00,  1.07s/it, acc=0.5439, loss=1.9960]\n",
            "val E022: 100% 25/25 [00:27<00:00,  1.11s/it, acc=0.4317, loss=2.3785]\n",
            "train E023: 100% 152/152 [02:42<00:00,  1.07s/it, acc=0.5597, loss=1.9505]\n",
            "val E023: 100% 25/25 [00:27<00:00,  1.09s/it, acc=0.4322, loss=2.3794]\n",
            "train E024: 100% 152/152 [02:42<00:00,  1.07s/it, acc=0.5702, loss=1.9214]\n",
            "val E024: 100% 25/25 [00:25<00:00,  1.03s/it, acc=0.4398, loss=2.3968]\n",
            "train E025: 100% 152/152 [02:43<00:00,  1.08s/it, acc=0.5623, loss=1.9121]\n",
            "val E025: 100% 25/25 [00:27<00:00,  1.11s/it, acc=0.4280, loss=2.4365]\n",
            "train E026: 100% 152/152 [02:44<00:00,  1.08s/it, acc=0.5653, loss=1.8967]\n",
            "val E026: 100% 25/25 [00:28<00:00,  1.14s/it, acc=0.4248, loss=2.4588]\n",
            "train E027: 100% 152/152 [02:43<00:00,  1.08s/it, acc=0.5705, loss=1.8642]\n",
            "val E027: 100% 25/25 [00:28<00:00,  1.13s/it, acc=0.4333, loss=2.4063]\n",
            "train E028: 100% 152/152 [02:41<00:00,  1.07s/it, acc=0.5674, loss=1.8919]\n",
            "val E028: 100% 25/25 [00:26<00:00,  1.06s/it, acc=0.4423, loss=2.3985]\n",
            "train E029: 100% 152/152 [02:43<00:00,  1.08s/it, acc=0.5781, loss=1.8704]\n",
            "val E029: 100% 25/25 [00:27<00:00,  1.10s/it, acc=0.4297, loss=2.4116]\n",
            "train E030: 100% 152/152 [02:43<00:00,  1.07s/it, acc=0.5704, loss=1.8639]\n",
            "val E030: 100% 25/25 [00:27<00:00,  1.10s/it, acc=0.4380, loss=2.4063]\n",
            "train E031: 100% 152/152 [02:50<00:00,  1.12s/it, acc=0.5823, loss=1.8264]\n",
            "val E031: 100% 25/25 [00:26<00:00,  1.07s/it, acc=0.4403, loss=2.3869]\n",
            "train E032: 100% 152/152 [02:45<00:00,  1.09s/it, acc=0.5885, loss=1.8472]\n",
            "val E032: 100% 25/25 [00:27<00:00,  1.10s/it, acc=0.4336, loss=2.4080]\n",
            "train E033: 100% 152/152 [02:50<00:00,  1.12s/it, acc=0.5854, loss=1.8544]\n",
            "val E033: 100% 25/25 [00:27<00:00,  1.08s/it, acc=0.4378, loss=2.4156]\n",
            "train E034: 100% 152/152 [02:48<00:00,  1.11s/it, acc=0.5987, loss=1.7842]\n",
            "val E034: 100% 25/25 [00:26<00:00,  1.07s/it, acc=0.4407, loss=2.3722]\n",
            "train E035: 100% 152/152 [02:48<00:00,  1.11s/it, acc=0.5961, loss=1.7635]\n",
            "val E035: 100% 25/25 [00:27<00:00,  1.09s/it, acc=0.4323, loss=2.4435]\n",
            "train E036: 100% 152/152 [02:44<00:00,  1.08s/it, acc=0.6047, loss=1.7747]\n",
            "val E036: 100% 25/25 [00:28<00:00,  1.13s/it, acc=0.4335, loss=2.4366]\n",
            "train E037: 100% 152/152 [02:41<00:00,  1.07s/it, acc=0.5999, loss=1.7895]\n",
            "val E037: 100% 25/25 [00:28<00:00,  1.13s/it, acc=0.4326, loss=2.4449]\n",
            "train E038: 100% 152/152 [02:54<00:00,  1.15s/it, acc=0.6048, loss=1.8123]\n",
            "val E038: 100% 25/25 [00:28<00:00,  1.13s/it, acc=0.4331, loss=2.4304]\n",
            "train E039: 100% 152/152 [02:45<00:00,  1.09s/it, acc=0.6064, loss=1.7345]\n",
            "val E039: 100% 25/25 [00:26<00:00,  1.07s/it, acc=0.4391, loss=2.4011]\n",
            "train E040: 100% 152/152 [02:43<00:00,  1.07s/it, acc=0.6139, loss=1.7254]\n",
            "val E040: 100% 25/25 [00:26<00:00,  1.07s/it, acc=0.4358, loss=2.4254]\n",
            "train E041: 100% 152/152 [02:41<00:00,  1.06s/it, acc=0.6113, loss=1.6866]\n",
            "val E041: 100% 25/25 [00:26<00:00,  1.06s/it, acc=0.4378, loss=2.4224]\n",
            "train E042: 100% 152/152 [02:43<00:00,  1.07s/it, acc=0.6166, loss=1.7182]\n",
            "val E042: 100% 25/25 [00:27<00:00,  1.12s/it, acc=0.4250, loss=2.4619]\n",
            "train E043: 100% 152/152 [02:45<00:00,  1.09s/it, acc=0.6162, loss=1.7315]\n",
            "val E043: 100% 25/25 [00:27<00:00,  1.09s/it, acc=0.4458, loss=2.4059]\n",
            "train E044: 100% 152/152 [02:43<00:00,  1.07s/it, acc=0.6319, loss=1.6859]\n",
            "val E044: 100% 25/25 [00:27<00:00,  1.11s/it, acc=0.4410, loss=2.4195]\n",
            "train E045: 100% 152/152 [02:46<00:00,  1.10s/it, acc=0.6250, loss=1.7094]\n",
            "val E045: 100% 25/25 [00:26<00:00,  1.08s/it, acc=0.4294, loss=2.4734]\n",
            "train E046: 100% 152/152 [02:45<00:00,  1.09s/it, acc=0.6181, loss=1.6980]\n",
            "val E046: 100% 25/25 [00:27<00:00,  1.11s/it, acc=0.4393, loss=2.4435]\n",
            "train E047: 100% 152/152 [02:44<00:00,  1.08s/it, acc=0.6309, loss=1.6891]\n",
            "val E047: 100% 25/25 [00:27<00:00,  1.08s/it, acc=0.4372, loss=2.4492]\n",
            "train E048: 100% 152/152 [02:44<00:00,  1.08s/it, acc=0.6299, loss=1.7002]\n",
            "val E048: 100% 25/25 [00:26<00:00,  1.07s/it, acc=0.4414, loss=2.4312]\n",
            "train E049: 100% 152/152 [02:41<00:00,  1.06s/it, acc=0.6282, loss=1.6749]\n",
            "val E049: 100% 25/25 [00:27<00:00,  1.09s/it, acc=0.4345, loss=2.4420]\n"
          ],
          "name": "stdout"
        }
      ]
    },
    {
      "metadata": {
        "id": "bpc2HuwRrqST",
        "colab_type": "code",
        "colab": {}
      },
      "cell_type": "code",
      "source": [
        "!mkdir predictions"
      ],
      "execution_count": 0,
      "outputs": []
    },
    {
      "metadata": {
        "id": "E4TJuR-rFOQh",
        "colab_type": "code",
        "colab": {
          "base_uri": "https://localhost:8080/",
          "height": 146
        },
        "outputId": "33774a17-da8e-4847-a007-b1bda68cb131"
      },
      "cell_type": "code",
      "source": [
        "!python predict.py"
      ],
      "execution_count": 41,
      "outputs": [
        {
          "output_type": "stream",
          "text": [
            "Loading samples to predict from /usr/VQA_Den/VizWiz-VQA-PyTorch-master/data/Annotations/test.json\n",
            "Loading Model from /usr/VQA_Den/VizWiz-VQA-PyTorch-master/logs/vizwiz/2019-03-09_10:52:12/final_log.pth\n",
            "  0% 0/63 [00:00<?, ?it/s]Evaluating...\n",
            "\n",
            "100% 63/63 [01:07<00:00,  1.07s/it]\n",
            "Evaluation completed\n",
            "Submission file saved in /usr/VQA_Den/VizWiz-VQA-PyTorch-master/predictions/default_pred.json\n"
          ],
          "name": "stdout"
        }
      ]
    },
    {
      "metadata": {
        "id": "qEr-rEnpqvqs",
        "colab_type": "code",
        "colab": {}
      },
      "cell_type": "code",
      "source": [
        ""
      ],
      "execution_count": 0,
      "outputs": []
    }
  ]
}